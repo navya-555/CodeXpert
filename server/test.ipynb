{
 "cells": [
  {
   "cell_type": "markdown",
   "id": "6960762c",
   "metadata": {},
   "source": [
    "## code functions"
   ]
  },
  {
   "cell_type": "code",
   "execution_count": 4,
   "id": "d5d45140",
   "metadata": {},
   "outputs": [
    {
     "data": {
      "text/plain": [
       "True"
      ]
     },
     "execution_count": 4,
     "metadata": {},
     "output_type": "execute_result"
    }
   ],
   "source": [
    "import google.generativeai as genai\n",
    "import re\n",
    "import json\n",
    "import os\n",
    "from dotenv import load_dotenv\n",
    "import anthropic\n",
    "load_dotenv()"
   ]
  },
  {
   "cell_type": "code",
   "execution_count": 5,
   "id": "6cbd13a7",
   "metadata": {},
   "outputs": [],
   "source": [
    "genai.configure(api_key=os.environ['GEMINI-API'])\n",
    "client = anthropic.Anthropic(api_key=os.environ['ANTHROPIC-API'])"
   ]
  },
  {
   "cell_type": "code",
   "execution_count": 6,
   "id": "cf522aef",
   "metadata": {},
   "outputs": [],
   "source": [
    "def clean_json_response(raw_text):\n",
    "    # Strip ```json ... ``` or ``` ... ``` blocks if they exist\n",
    "    cleaned = re.sub(r\"^```(?:json)?\\s*\", \"\", raw_text.strip())\n",
    "    cleaned = re.sub(r\"\\s*```$\", \"\", cleaned)\n",
    "    return cleaned"
   ]
  },
  {
   "cell_type": "code",
   "execution_count": 7,
   "id": "486d141f",
   "metadata": {},
   "outputs": [],
   "source": [
    "def get_lab_questions(objectives: list[str], no: int, lang: str):\n",
    "    formatted_objectives = \"\\n\".join([f\"{i+1}. {obj}\" for i, obj in enumerate(objectives)])\n",
    "    prompt = f\"\"\"\n",
    "        You are a programming instructor generating structured lab questions.\n",
    "        \n",
    "        Generate exactly {no} structured programming questions in {lang} that cover the objectives given below:.\n",
    "        Some questions can cover more than one objective, but make sure each objective is covered in at least one question. The questions should vary in difficulty and complexity, and should test the student's ability to apply concepts from the listed objectives effectively.\n",
    "\n",
    "        Language: {lang}  \n",
    "        Number of Questions per Objective: {no}  \n",
    "\n",
    "        Objectives:\n",
    "        {formatted_objectives}\n",
    "\n",
    "        Generate exactly {no} questions. Each question must contain:\n",
    "        - number (int)\n",
    "        - title (str)\n",
    "        - problem_statement (str)\n",
    "        - input_format (str)\n",
    "        - output_format (str)\n",
    "        - sample_input (str)\n",
    "        - sample_output (str)\n",
    "\n",
    "        Return the entire result as a JSON object following this format:\n",
    "\n",
    "        objective: str\n",
    "        language: str\n",
    "        questions: List[Question]\n",
    "        \"\"\"\n",
    "    model = genai.GenerativeModel('gemini-1.5-flash')  # or 'gemini-1.5-pro'\n",
    "    response = model.generate_content(prompt,generation_config=genai.GenerationConfig(response_mime_type=\"application/json\"))\n",
    "    raw_text = response.text\n",
    "    cleaned_json = clean_json_response(raw_text)\n",
    "\n",
    "    try:\n",
    "        json_data = json.loads(cleaned_json)\n",
    "        return json_data\n",
    "    except Exception as e:\n",
    "        print(\"Parsing Error:\", e)\n",
    "        print(\"Raw output:\", raw_text)\n",
    "        return None"
   ]
  },
  {
   "cell_type": "code",
   "execution_count": 9,
   "id": "4fb37836",
   "metadata": {},
   "outputs": [],
   "source": [
    "lab = get_lab_questions([\"Learn to write and run simple programs\", \"Understand the concept of variables and assignments\", \"Learn to use conditional statements (if/else)\"], 3, \"python\")"
   ]
  },
  {
   "cell_type": "code",
   "execution_count": 10,
   "id": "af4926f1",
   "metadata": {},
   "outputs": [
    {
     "data": {
      "text/plain": [
       "{'objective': 'Learn to write and run simple programs, Understand the concept of variables and assignments, Learn to use conditional statements (if/else)',\n",
       " 'language': 'python',\n",
       " 'questions': [{'number': 1,\n",
       "   'title': 'Simple Calculator',\n",
       "   'problem_statement': 'Write a program that performs basic arithmetic operations (addition, subtraction, multiplication, division) based on user input.  The program should take two numbers and an operator (+, -, *, /) as input and print the result.',\n",
       "   'input_format': 'Three inputs in a single line: number1 operator number2 (e.g., 10 + 5)',\n",
       "   'output_format': 'The result of the operation. If division by zero is attempted, print an error message.',\n",
       "   'sample_input': '10 + 5',\n",
       "   'sample_output': '15'},\n",
       "  {'number': 2,\n",
       "   'title': 'Even or Odd Checker',\n",
       "   'problem_statement': 'Write a program that checks if a given number is even or odd using conditional statements. The program should take an integer as input and print whether it is even or odd.',\n",
       "   'input_format': 'A single integer.',\n",
       "   'output_format': '\"Even\" if the number is even, \"Odd\" otherwise.',\n",
       "   'sample_input': '7',\n",
       "   'sample_output': 'Odd'},\n",
       "  {'number': 3,\n",
       "   'title': 'Grade Calculator with Conditional Logic',\n",
       "   'problem_statement': \"Write a program that calculates a student's letter grade based on their numerical score. Use the following grading scale: 90-100: A, 80-89: B, 70-79: C, 60-69: D, below 60: F. The program should take the numerical score as input and print the corresponding letter grade.\",\n",
       "   'input_format': 'A single integer representing the numerical score.',\n",
       "   'output_format': 'The letter grade (A, B, C, D, or F).',\n",
       "   'sample_input': '85',\n",
       "   'sample_output': 'B'}]}"
      ]
     },
     "execution_count": 10,
     "metadata": {},
     "output_type": "execute_result"
    }
   ],
   "source": [
    "lab"
   ]
  },
  {
   "cell_type": "code",
   "execution_count": 12,
   "id": "680dccec",
   "metadata": {},
   "outputs": [],
   "source": [
    "def get_followup_question(question_details: dict, student_code: str):\n",
    "    prompt = f\"\"\"\n",
    "    You are a programming instructor evaluating a student's understanding of a specific programming concept.\n",
    "\n",
    "    Below is the original question given to the student and the code they submitted:\n",
    "\n",
    "    Original Question:\n",
    "    {question_details}\n",
    "\n",
    "    Student's Code:\n",
    "    {student_code}\n",
    "\n",
    "    Your task is to generate a *follow-up question* that directly builds on the student's submitted code. The goal is to test whether the student truly understood the concept by asking them to *modify, extend, or refactor* their existing code.\n",
    "\n",
    "    DO NOT generate a completely new or unrelated problem.\n",
    "\n",
    "    ---\n",
    "\n",
    "    Here are some examples of what good follow-up questions might look like:\n",
    "\n",
    "    Original Question: Write a function to calculate the factorial of a number using recursion.\n",
    "\n",
    "    Possible Follow-Ups:\n",
    "    1. *Refactoring*: Change the code to use while loop instead of for loop.\n",
    "    2. *New Constraint*: Rewrite the function to handle negative inputs with appropriate error handling.\n",
    "    3. *Change of Input*: Modify the function to calculate the factorial for a list of numbers.\n",
    "    4. *Output Format Change*: Return the result as a formatted string: “Factorial of 5 is 120”.\n",
    "\n",
    "    In your follow-up question, you should try to apply a similar idea—take the *same problem context, and **add a twist* that makes the student update the code.\n",
    "\n",
    "    ---\n",
    "\n",
    "    Return your final result in the following JSON format as a json object  (no explanation, no markdown, just the raw JSON object):\n",
    "    {{\n",
    "        \"number\": (int),\n",
    "        \"title\": (str),\n",
    "        \"problem_statement\": (str),\n",
    "        \"input_format\": (str),\n",
    "        \"output_format\": (str),\n",
    "        \"sample_input\": (str),\n",
    "        \"sample_output\": (str)\n",
    "    }}\n",
    "    \"\"\"\n",
    "    response = client.messages.create(\n",
    "        model=\"claude-3-opus-20240229\",\n",
    "        max_tokens=1024,\n",
    "        temperature=0.1,\n",
    "        messages=[\n",
    "            {\"role\": \"user\", \"content\": prompt}\n",
    "        ]\n",
    "    )\n",
    "    cleaned_json = clean_json_response(response.content[0].text)\n",
    "\n",
    "    try:\n",
    "        json_data = json.loads(cleaned_json)\n",
    "        # If Gemini wraps the content in a top-level \"LabQuestions\" key, unwrap it:\n",
    "        return json_data\n",
    "    except Exception as e:\n",
    "        print(\"Parsing Error:\", e)\n",
    "        print(\"Raw output:\", response.content[0].text)\n",
    "        return None"
   ]
  },
  {
   "cell_type": "code",
   "execution_count": 17,
   "id": "9237d9a9",
   "metadata": {},
   "outputs": [],
   "source": [
    "question = {'number': 3,\n",
    "   'title': 'Grade Calculator with Conditional Logic',\n",
    "   'problem_statement': \"Write a program that calculates a student's letter grade based on their numerical score. Use the following grading scale: 90-100: A, 80-89: B, 70-79: C, 60-69: D, below 60: F. The program should take the numerical score as input and print the corresponding letter grade.\",\n",
    "   'input_format': 'A single integer representing the numerical score.',\n",
    "   'output_format': 'The letter grade (A, B, C, D, or F).',\n",
    "   'sample_input': '85',\n",
    "   'sample_output': 'B'}\n",
    "\n",
    "code = \"\"\"\n",
    "def calculate_grade(score):\n",
    "    if 90 <= score <= 100:\n",
    "        print(\"A\")\n",
    "    elif 80 <= score <= 89:\n",
    "        print(\"B\")\n",
    "    elif 70 <= score <= 79:\n",
    "        print(\"C\")\n",
    "    elif 60 <= score <= 69:\n",
    "        print(\"D\")\n",
    "    else:\n",
    "        print(\"F\")\n",
    "\n",
    "# Read input from the user\n",
    "score = int(input())\n",
    "\n",
    "# Call the function\n",
    "calculate_grade(score)\n",
    "\n",
    "\n",
    "\"\"\"\n",
    "mod_question = get_followup_question(question,code)"
   ]
  },
  {
   "cell_type": "code",
   "execution_count": 18,
   "id": "6f32fc2e",
   "metadata": {},
   "outputs": [
    {
     "data": {
      "text/plain": [
       "{'number': 3,\n",
       " 'title': 'Grade Calculator with Plus/Minus Grades',\n",
       " 'problem_statement': 'Modify the grade calculator program to include plus and minus grades. Use the following grading scale: 97-100: A+, 93-96: A, 90-92: A-, 87-89: B+, 83-86: B, 80-82: B-, 77-79: C+, 73-76: C, 70-72: C-, 67-69: D+, 63-66: D, 60-62: D-, below 60: F. The program should take the numerical score as input and print the corresponding letter grade with plus/minus if applicable.',\n",
       " 'input_format': 'A single integer representing the numerical score.',\n",
       " 'output_format': 'The letter grade (A+, A, A-, B+, B, B-, C+, C, C-, D+, D, D-, or F).',\n",
       " 'sample_input': '91',\n",
       " 'sample_output': 'A-'}"
      ]
     },
     "execution_count": 18,
     "metadata": {},
     "output_type": "execute_result"
    }
   ],
   "source": [
    "mod_question"
   ]
  },
  {
   "cell_type": "code",
   "execution_count": 11,
   "id": "297e882e",
   "metadata": {},
   "outputs": [],
   "source": [
    "def get_hint(question, code, error=None):\n",
    "    prompt=f\"\"\"\n",
    "    You are a programming mentor helping a student who is stuck on a problem.\n",
    "\n",
    "    Your job is to guide the student using *three progressive hints* that help them understand and fix their mistake—without giving away the answer directly.\n",
    "\n",
    "    Here’s the problem they were trying to solve:\n",
    "\n",
    "    {question}\n",
    "\n",
    "    {f\"The student encountered the following error:\\n{error}\" if error else \"The student is not getting the expected output, but there is no error.\"}\n",
    "\n",
    "    Here is the code written by the student:\n",
    "\n",
    "    {code}\n",
    "\n",
    "    Please provide *3 hints* in *increasing order of specificity*:\n",
    "    - Hint 1: A broad-level nudge (conceptual)\n",
    "    - Hint 2: A more focused tip (e.g., what part of the code to look at or rethink)\n",
    "    - Hint 3: A detailed logic hint (almost the solution, but not code)\n",
    "\n",
    "    Return the hints as a JSON object with this format witth no additional markdown text:\n",
    "    \n",
    "        \"hint_1\": \"...\",\n",
    "        \"hint_2\": \"...\",\n",
    "        \"hint_3\": \"...\"\n",
    "    \n",
    "    \"\"\"\n",
    "    response = client.messages.create(\n",
    "        model=\"claude-3-opus-20240229\",  # or claude-3-sonnet or haiku\n",
    "        max_tokens=1024,\n",
    "        temperature=0.7,\n",
    "        messages=[\n",
    "            {\"role\": \"user\", \"content\": prompt}\n",
    "        ]\n",
    "    )\n",
    "    cleaned_json = clean_json_response(response.content[0].text)\n",
    "    try:\n",
    "        #text = response.content[0].text.strip()\n",
    "        parsed_json = json.loads(cleaned_json)\n",
    "        return parsed_json\n",
    "    except Exception as e:\n",
    "        print(\"Parsing Error:\", e)\n",
    "        print(\"Raw response:\", response.content[0].text)\n",
    "        return None"
   ]
  },
  {
   "cell_type": "code",
   "execution_count": null,
   "id": "f8921482",
   "metadata": {},
   "outputs": [],
   "source": [
    "question = {'number': 1,\n",
    "   'title': 'Dynamic Matrix Multiplication',\n",
    "   'problem_statement': 'Write a C program that performs matrix multiplication using dynamic memory allocation (DMA).  The program should first prompt the user for the dimensions of two matrices (rows and columns for each).  It should then dynamically allocate memory for the matrices using DMA.  The program should then prompt the user to input the elements of the matrices. Finally, it should perform the matrix multiplication and display the resultant matrix.  Handle potential errors, such as incompatible matrix dimensions for multiplication, or memory allocation failures.',\n",
    "   'input_format': \"The first line contains two integers, 'm' and 'n', representing the rows and columns of the first matrix. The next 'm' lines contain 'n' integers representing the elements of the first matrix. The next line contains two integers, 'p' and 'q', representing the rows and columns of the second matrix. The next 'p' lines contain 'q' integers representing the elements of the second matrix.\",\n",
    "   'output_format': \"If the matrices are compatible for multiplication, display the resulting matrix with 'm' rows and 'q' columns.  If the matrices are not compatible, display an appropriate error message. If memory allocation fails, display a 'Memory allocation failed' message.\",\n",
    "   'sample_input': '2 3\\n1 2 3\\n4 5 6\\n3 2\\n7 8\\n9 10\\n11 12',\n",
    "   'sample_output': '58 64\\n139 154'}\n",
    "\n",
    "code = \"\"\"\n",
    "#include <stdio.h>\n",
    "#include <stdlib.h>\n",
    "\n",
    "// Function to allocate a 2D matrix dynamically\n",
    "int** allocate_matrix(int rows, int cols) {\n",
    "    int** matrix = (int**)malloc(rows * sizeof(int*));\n",
    "    if (matrix == NULL) return NULL;\n",
    "\n",
    "    for (int i = 0; i < rows; i++) {\n",
    "        matrix[i] = (int*)malloc(cols * sizeof(int));\n",
    "        if (matrix[i] == NULL) return NULL;\n",
    "    }\n",
    "    return matrix;\n",
    "}\n",
    "\n",
    "// Function to free a dynamically allocated 2D matrix\n",
    "void free_matrix(int** matrix, int rows) {\n",
    "    for (int i = 0; i < rows; i++)\n",
    "        free(matrix[i]);\n",
    "    free(matrix);\n",
    "}\n",
    "\n",
    "int main() {\n",
    "    int r1, c1, r2, c2;\n",
    "\n",
    "    // Input dimensions\n",
    "    printf(\"Enter rows and columns for Matrix A: \");\n",
    "    scanf(\"%d %d\", &r1, &c1);\n",
    "\n",
    "    printf(\"Enter rows and columns for Matrix B: \");\n",
    "    scanf(\"%d %d\", &r2, &c2);\n",
    "\n",
    "    // Check if multiplication is possible\n",
    "    if (c1 != r2) {\n",
    "        printf(\"Error: Incompatible dimensions for matrix multiplication.\\n\");\n",
    "        return 1;\n",
    "    }\n",
    "\n",
    "    // Allocate matrices\n",
    "    int** A = allocate_matrix(r1, c1);\n",
    "    int** B = allocate_matrix(r2, c2);\n",
    "    int** C = allocate_matrix(r1, c2);  // Result matrix\n",
    "\n",
    "    if (A == NULL || B == NULL || C == NULL) {\n",
    "        printf(\"Memory allocation failed.\\n\");\n",
    "        return 1;\n",
    "    }\n",
    "\n",
    "    // Input elements for Matrix A\n",
    "    printf(\"Enter elements of Matrix A:\\n\");\n",
    "    for (int i = 0; i < r1; i++)\n",
    "        for (int j = 0; j < c1; j++)\n",
    "            scanf(\"%d\", &A[i][j]);\n",
    "\n",
    "    // Input elements for Matrix B\n",
    "    printf(\"Enter elements of Matrix B:\\n\");\n",
    "    for (int i = 0; i < r2; i++)\n",
    "        for (int j = 0; j < c2; j++)\n",
    "            scanf(\"%d\", &B[i][j]);\n",
    "\n",
    "    // Matrix multiplication\n",
    "    for (int i = 0; i < r1; i++) {\n",
    "        for (int j = 0; j < c2; j++) {\n",
    "            C[i][j] = 0;\n",
    "            for (int k = 0; k < c1; k++) {\n",
    "                C[i][j] += A[i][k] * B[k][j];\n",
    "            }\n",
    "        }\n",
    "    }\n",
    "\n",
    "    // Print result matrix\n",
    "    printf(\"Resultant Matrix (A x B):\\n\");\n",
    "    for (int i = 0 i < r1; i++) {\n",
    "        for (int j = 0; j < c2; j++)\n",
    "            printf(\"%d \", C[i][j]);\n",
    "        printf(\"\\n\");\n",
    "    }\n",
    "\n",
    "    // Free allocated memory\n",
    "    free_matrix(A, r1);\n",
    "    free_matrix(B, r2);\n",
    "    free_matrix(C, r1);\n",
    "\n",
    "    return 0;\n",
    "}\n",
    "\n",
    "\"\"\""
   ]
  },
  {
   "cell_type": "code",
   "execution_count": 13,
   "id": "40527a00",
   "metadata": {},
   "outputs": [
    {
     "data": {
      "text/plain": [
       "{'hint_1': 'Look carefully at the line where the error occurs. Is there something missing in the syntax of the for loop?',\n",
       " 'hint_2': \"In C, when declaring a loop variable inside a for loop, you need to make sure the syntax is correct. Check if you're missing any necessary punctuation.\",\n",
       " 'hint_3': \"When declaring the loop variable 'i' in the for loop, a semicolon is missing between the initialization and the condition. It should be 'for (int i = 0; i < r1; i++)'.\"}"
      ]
     },
     "execution_count": 13,
     "metadata": {},
     "output_type": "execute_result"
    }
   ],
   "source": [
    "get_hint(question,code,'''main.c: In function ‘main’:\n",
    "main.c:73:20: error: expected ‘,’ or ‘;’ before ‘i’\n",
    "   73 |     for (int i = 0 i < r1; i++) {''')"
   ]
  },
  {
   "cell_type": "code",
   "execution_count": null,
   "id": "3f59357c",
   "metadata": {},
   "outputs": [],
   "source": [
    "def check_code(question_details: dict, student_code: str, output: str):\n",
    "    prompt = f\"\"\"\n",
    "    You are a programming instructor evaluating a student's submission. Your job is to check if the student's code fulfills all the requirements of the original question, and if the output is correct.\n",
    "\n",
    "    Below is the full information you have:\n",
    "\n",
    "    --- Original Question ---\n",
    "    {question_details}\n",
    "\n",
    "    --- Student's Submitted Code ---\n",
    "    {student_code}\n",
    "\n",
    "    --- Output Produced by the Code ---\n",
    "    {output}\n",
    "\n",
    "    --- Evaluation Instructions ---\n",
    "    1. Read the question carefully. Check for all required parts:\n",
    "        - What the function is supposed to do.\n",
    "        - Required input format (e.g., number of arguments, data types).\n",
    "        - Expected output format (e.g., type and structure of return value).\n",
    "\n",
    "    2. Check the student code:\n",
    "        - Does it define the function with the correct name and number/types of parameters?\n",
    "        - Does the logic correctly solve the problem as stated?\n",
    "        - Does it return (not just print) the correct result in the correct format?\n",
    "\n",
    "    3. Validate the output:\n",
    "        - Calculate the expected output based on the arguments used in the student's function call.\n",
    "        - Compare that with the provided output.\n",
    "        - If the result is mathematically incorrect or improperly formatted, do NOT approve.\n",
    "\n",
    "    --- Return Your Final Judgment in the Following JSON Format ---\n",
    "    \n",
    "        \"Approved\": (int) 1 if everything is correct, else 0,\n",
    "        \"Reason\": (str) Briefly explain why it's approved or what’s wrong (e.g., wrong return type, incorrect logic, wrong function name, etc.)\n",
    "    \n",
    "    \"\"\"\n",
    "    model = genai.GenerativeModel('gemini-1.5-flash')\n",
    "    response = model.generate_content(prompt,generation_config=genai.GenerationConfig(response_mime_type=\"application/json\"))\n",
    "    raw_text = response.text\n",
    "    cleaned_json = clean_json_response(raw_text)\n",
    "\n",
    "    try:\n",
    "        json_data = json.loads(cleaned_json)\n",
    "        # If Gemini wraps the content in a top-level \"LabQuestions\" key, unwrap it:\n",
    "        return json_data\n",
    "    except Exception as e:\n",
    "        print(\"Parsing Error:\", e)\n",
    "        print(\"Raw output:\", raw_text)\n",
    "        return None"
   ]
  },
  {
   "cell_type": "code",
   "execution_count": 29,
   "id": "2e5ad6c5",
   "metadata": {},
   "outputs": [],
   "source": [
    "question = {'number': 1,\n",
    "   'title': 'Simple Function to Calculate the Area of a Rectangle',\n",
    "   'problem_statement': 'Write a Python function that calculates the area of a rectangle given its length and width.',\n",
    "   'input_format': 'The function should take two arguments: length and width (both floats).',\n",
    "   'output_format': 'The function should return the area of the rectangle (float).',\n",
    "   'sample_input': 'length = 5.0, width = 3.0',\n",
    "   'sample_output': '15.0'}\n",
    "\n",
    "code = \"\"\"\n",
    "def calculate_rectangle_area(length: float, width: float) -> float:\n",
    "    return length * width\n",
    "\n",
    "area = calculate_rectangle_area(45.0, 8.0)\n",
    "print(\"Area of rectangle:\", area)\n",
    "\"\"\"\n",
    "\n",
    "op = '32.0'\n",
    "res = check_code(question,code,op)"
   ]
  },
  {
   "cell_type": "code",
   "execution_count": 30,
   "id": "25273152",
   "metadata": {},
   "outputs": [
    {
     "data": {
      "text/plain": [
       "{'Approved': 1,\n",
       " 'Reason': \"The student's code fulfills all requirements. The function 'calculate_rectangle_area' is correctly defined, takes the correct input types, and returns the correct output type.  The calculation is also correct (45.0 * 8.0 = 360.0). The printed output is not part of the evaluation; only the function's return value is evaluated.\"}"
      ]
     },
     "execution_count": 30,
     "metadata": {},
     "output_type": "execute_result"
    }
   ],
   "source": [
    "res"
   ]
  },
  {
   "cell_type": "markdown",
   "id": "b0fc7874",
   "metadata": {},
   "source": [
    "## report functions"
   ]
  },
  {
   "cell_type": "code",
   "execution_count": 58,
   "id": "354c94e4",
   "metadata": {},
   "outputs": [],
   "source": [
    "from app import app\n",
    "from models import db, AssignmentProgress, Question, Student\n",
    "from sqlalchemy import func\n",
    "import matplotlib.pyplot as plt\n",
    "from collections import Counter\n",
    "\n",
    "# Needed for using the db.session inside Jupyter\n",
    "app.app_context().push()\n",
    "\n",
    "def get_avg_time_for_assignment(assignment_id):\n",
    "    result = (\n",
    "        db.session.query(func.avg(AssignmentProgress.time))\n",
    "        .filter(AssignmentProgress.assignment_id == assignment_id)\n",
    "        .scalar()\n",
    "    )\n",
    "    \n",
    "    # Return the average time or 0 if no entries\n",
    "    return round(result, 2) if result is not None else 0\n"
   ]
  },
  {
   "cell_type": "code",
   "execution_count": 23,
   "id": "f2077fd7",
   "metadata": {},
   "outputs": [
    {
     "name": "stdout",
     "output_type": "stream",
     "text": [
      "Average time for assignment abcd2: 165.83333333333334 minutes\n"
     ]
    }
   ],
   "source": [
    "assignment_id = 'abcd2'  # Replace with your actual assignment ID\n",
    "avg_time = get_avg_time_for_assignment(assignment_id)\n",
    "print(f\"Average time for assignment {assignment_id}: {avg_time} minutes\")\n"
   ]
  },
  {
   "cell_type": "code",
   "execution_count": 37,
   "id": "bba851ca",
   "metadata": {},
   "outputs": [],
   "source": [
    "def get_question_attempt_distribution(assignment_id):\n",
    "    with app.app_context():\n",
    "        # Step 1: Get all progress entries for the assignment, grouped by student\n",
    "        results = (\n",
    "            db.session.query(AssignmentProgress.student_id, AssignmentProgress.solved_questions)\n",
    "            .filter(AssignmentProgress.assignment_id == assignment_id)\n",
    "            .all()\n",
    "        )\n",
    "\n",
    "        if not results:\n",
    "            print(f\"No progress found for assignment ID: {assignment_id}\")\n",
    "            return {}\n",
    "\n",
    "        # Step 2: Count how many students attempted X number of questions\n",
    "        distribution = Counter()\n",
    "\n",
    "        for student_id, total_questions in results:\n",
    "            distribution[total_questions] += 1\n",
    "\n",
    "        # Return the distribution dictionary\n",
    "        return dict(distribution)"
   ]
  },
  {
   "cell_type": "code",
   "execution_count": 38,
   "id": "7c6b5b42",
   "metadata": {},
   "outputs": [
    {
     "data": {
      "text/plain": [
       "{3: 2, 1: 1, 2: 2, 0: 1}"
      ]
     },
     "execution_count": 38,
     "metadata": {},
     "output_type": "execute_result"
    }
   ],
   "source": [
    "get_question_attempt_distribution('abcd2')  # Replace with your actual assignment ID"
   ]
  },
  {
   "cell_type": "code",
   "execution_count": 41,
   "id": "62355422",
   "metadata": {},
   "outputs": [],
   "source": [
    "def get_assignment_time_distribution(assignment_id):\n",
    "    with app.app_context():\n",
    "        # Step 1: Get all progress entries for the assignment, grouped by student\n",
    "        results = (\n",
    "            db.session.query(AssignmentProgress.time)\n",
    "            .filter(AssignmentProgress.assignment_id == assignment_id)\n",
    "            .all()\n",
    "        )\n",
    "\n",
    "        if not results:\n",
    "            print(f\"No progress found for assignment ID: {assignment_id}\")\n",
    "            return {}\n",
    "\n",
    "        # Return the distribution dictionary\n",
    "        return [time[0] for time in results]"
   ]
  },
  {
   "cell_type": "code",
   "execution_count": 42,
   "id": "8edaa652",
   "metadata": {},
   "outputs": [
    {
     "data": {
      "text/plain": [
       "[100, 190, 195, 120, 190, 200]"
      ]
     },
     "execution_count": 42,
     "metadata": {},
     "output_type": "execute_result"
    }
   ],
   "source": [
    "get_assignment_time_distribution('abcd2')"
   ]
  },
  {
   "cell_type": "code",
   "execution_count": 51,
   "id": "f20db717",
   "metadata": {},
   "outputs": [],
   "source": [
    "def get_avg_score_for_assignment(assignment_id):\n",
    "    result = (\n",
    "        db.session.query(func.avg(AssignmentProgress.score))\n",
    "        .filter(AssignmentProgress.assignment_id == assignment_id)\n",
    "        .scalar()\n",
    "    )\n",
    "    \n",
    "    # Return the average time or 0 if no entries\n",
    "    return round(result, 2) if result is not None else 0"
   ]
  },
  {
   "cell_type": "code",
   "execution_count": 52,
   "id": "6f7bd7e1",
   "metadata": {},
   "outputs": [
    {
     "data": {
      "text/plain": [
       "60.83"
      ]
     },
     "execution_count": 52,
     "metadata": {},
     "output_type": "execute_result"
    }
   ],
   "source": [
    "get_avg_score_for_assignment('abcd2')"
   ]
  },
  {
   "cell_type": "code",
   "execution_count": 47,
   "id": "8dfaeb4e",
   "metadata": {},
   "outputs": [],
   "source": [
    "def get_assignment_score_distribution(assignment_id):\n",
    "    with app.app_context():\n",
    "        # Step 1: Get all progress entries for the assignment, grouped by student\n",
    "        results = (\n",
    "            db.session.query(AssignmentProgress.score)\n",
    "            .filter(AssignmentProgress.assignment_id == assignment_id)\n",
    "            .all()\n",
    "        )\n",
    "\n",
    "        if not results:\n",
    "            print(f\"No progress found for assignment ID: {assignment_id}\")\n",
    "            return {}\n",
    "\n",
    "        # Return the distribution dictionary\n",
    "        return [score[0] for score in results]"
   ]
  },
  {
   "cell_type": "code",
   "execution_count": 48,
   "id": "57bd5108",
   "metadata": {},
   "outputs": [
    {
     "data": {
      "text/plain": [
       "[100.0, 33.0, 66.0, 100.0, 66.0, 0.0]"
      ]
     },
     "execution_count": 48,
     "metadata": {},
     "output_type": "execute_result"
    }
   ],
   "source": [
    "get_assignment_score_distribution('abcd2')"
   ]
  },
  {
   "cell_type": "code",
   "execution_count": 55,
   "id": "9152b68d",
   "metadata": {},
   "outputs": [],
   "source": [
    "def class_analysis(assignment_id):\n",
    "    avg_time = get_avg_time_for_assignment(assignment_id)\n",
    "    question_distribution = get_question_attempt_distribution(assignment_id)\n",
    "    time_distribution = get_assignment_time_distribution(assignment_id)\n",
    "    avg_score = get_avg_score_for_assignment(assignment_id)\n",
    "    score_distribution = get_assignment_score_distribution(assignment_id)\n",
    "    return {\"avg_time\": avg_time, \"question_distribution\": question_distribution, \"time_distribution\": time_distribution, \"avg_score\": avg_score, \"score_distribution\": score_distribution}"
   ]
  },
  {
   "cell_type": "code",
   "execution_count": 56,
   "id": "68ad2024",
   "metadata": {},
   "outputs": [
    {
     "data": {
      "text/plain": [
       "{'avg_time': 165.83,\n",
       " 'question_distribution': {3: 2, 1: 1, 2: 2, 0: 1},\n",
       " 'time_distribution': [100, 190, 195, 120, 190, 200],\n",
       " 'avg_score': 60.83,\n",
       " 'score_distribution': [100.0, 33.0, 66.0, 100.0, 66.0, 0.0]}"
      ]
     },
     "execution_count": 56,
     "metadata": {},
     "output_type": "execute_result"
    }
   ],
   "source": [
    "class_analysis('abcd2')"
   ]
  },
  {
   "cell_type": "code",
   "execution_count": 59,
   "id": "21d97b01",
   "metadata": {},
   "outputs": [],
   "source": [
    "def get_student_question_parent_time_distribution(student_name, assignment_id):\n",
    "    with app.app_context():\n",
    "        # Step 1: Get student_id from student name\n",
    "        student = db.session.query(Student).filter(Student.name == student_name).first()\n",
    "\n",
    "        if not student:\n",
    "            print(f\"Student with name {student_name} not found.\")\n",
    "            return {}\n",
    "\n",
    "        # Step 2: Get all questions for the given assignment_id and student_id\n",
    "        results = (\n",
    "            db.session.query(Question.question_id, Question.parent_time)\n",
    "            .filter(Question.assignment_id == assignment_id, Question.student_id == student.userid)\n",
    "            .all()\n",
    "        )\n",
    "\n",
    "        if not results:\n",
    "            print(f\"No questions found for student {student_name} in assignment ID: {assignment_id}\")\n",
    "            return {}\n",
    "\n",
    "        # Step 3: Create a dictionary with question_id as key and parent_time as value\n",
    "        question_time_dict = {question_id: parent_time for question_id, parent_time in results}\n",
    "\n",
    "        return question_time_dict\n"
   ]
  },
  {
   "cell_type": "code",
   "execution_count": 60,
   "id": "f371ee80",
   "metadata": {},
   "outputs": [
    {
     "data": {
      "text/plain": [
       "{'q1': 20, 'q2': 10, 'q3': 10}"
      ]
     },
     "execution_count": 60,
     "metadata": {},
     "output_type": "execute_result"
    }
   ],
   "source": [
    "get_student_question_parent_time_distribution('NAVYA', 'abcd2')"
   ]
  },
  {
   "cell_type": "code",
   "execution_count": 61,
   "id": "37893b54",
   "metadata": {},
   "outputs": [],
   "source": [
    "def get_student_question_followup_time_distribution(student_name, assignment_id):\n",
    "    with app.app_context():\n",
    "        # Step 1: Get student_id from student name\n",
    "        student = db.session.query(Student).filter(Student.name == student_name).first()\n",
    "\n",
    "        if not student:\n",
    "            print(f\"Student with name {student_name} not found.\")\n",
    "            return {}\n",
    "\n",
    "        # Step 2: Get all questions for the given assignment_id and student_id\n",
    "        results = (\n",
    "            db.session.query(Question.question_id, Question.followup_time)\n",
    "            .filter(Question.assignment_id == assignment_id, Question.student_id == student.userid)\n",
    "            .all()\n",
    "        )\n",
    "\n",
    "        if not results:\n",
    "            print(f\"No questions found for student {student_name} in assignment ID: {assignment_id}\")\n",
    "            return {}\n",
    "\n",
    "        # Step 3: Create a dictionary with question_id as key and parent_time as value\n",
    "        question_time_dict = {question_id: follow_time for question_id, follow_time in results}\n",
    "\n",
    "        return question_time_dict\n"
   ]
  },
  {
   "cell_type": "code",
   "execution_count": 62,
   "id": "d889c69f",
   "metadata": {},
   "outputs": [
    {
     "data": {
      "text/plain": [
       "{'q1': 20, 'q2': 15, 'q3': 25}"
      ]
     },
     "execution_count": 62,
     "metadata": {},
     "output_type": "execute_result"
    }
   ],
   "source": [
    "get_student_question_followup_time_distribution('NAVYA', 'abcd2')"
   ]
  },
  {
   "cell_type": "code",
   "execution_count": 63,
   "id": "3a9cd1b6",
   "metadata": {},
   "outputs": [],
   "source": [
    "def get_student_question_attempt_distribution(student_name, assignment_id):\n",
    "    with app.app_context():\n",
    "        # Step 1: Get student_id from student name\n",
    "        student = db.session.query(Student).filter(Student.name == student_name).first()\n",
    "\n",
    "        if not student:\n",
    "            print(f\"Student with name {student_name} not found.\")\n",
    "            return {}\n",
    "\n",
    "        # Step 2: Get all questions for the given assignment_id and student_id\n",
    "        results = (\n",
    "            db.session.query(Question.question_id, Question.parent_att)\n",
    "            .filter(Question.assignment_id == assignment_id, Question.student_id == student.userid)\n",
    "            .all()\n",
    "        )\n",
    "\n",
    "        if not results:\n",
    "            print(f\"No questions found for student {student_name} in assignment ID: {assignment_id}\")\n",
    "            return {}\n",
    "\n",
    "        # Step 3: Create a dictionary with question_id as key and parent_time as value\n",
    "        question_att_dict = {question_id: par_att for question_id, par_att in results}\n",
    "\n",
    "        return question_att_dict\n"
   ]
  },
  {
   "cell_type": "code",
   "execution_count": 64,
   "id": "57d57ade",
   "metadata": {},
   "outputs": [
    {
     "data": {
      "text/plain": [
       "{'q1': 1, 'q2': 1, 'q3': 1}"
      ]
     },
     "execution_count": 64,
     "metadata": {},
     "output_type": "execute_result"
    }
   ],
   "source": [
    "get_student_question_attempt_distribution('NAVYA', 'abcd2')"
   ]
  },
  {
   "cell_type": "code",
   "execution_count": 66,
   "id": "03b707b4",
   "metadata": {},
   "outputs": [],
   "source": [
    "def get_student_question_fol_attempt_distribution(student_name, assignment_id):\n",
    "    with app.app_context():\n",
    "        # Step 1: Get student_id from student name\n",
    "        student = db.session.query(Student).filter(Student.name == student_name).first()\n",
    "\n",
    "        if not student:\n",
    "            print(f\"Student with name {student_name} not found.\")\n",
    "            return {}\n",
    "\n",
    "        # Step 2: Get all questions for the given assignment_id and student_id\n",
    "        results = (\n",
    "            db.session.query(Question.question_id, Question.followup_att)\n",
    "            .filter(Question.assignment_id == assignment_id, Question.student_id == student.userid)\n",
    "            .all()\n",
    "        )\n",
    "\n",
    "        if not results:\n",
    "            print(f\"No questions found for student {student_name} in assignment ID: {assignment_id}\")\n",
    "            return {}\n",
    "\n",
    "        # Step 3: Create a dictionary with question_id as key and parent_time as value\n",
    "        question_att_dict = {question_id: fol_att for question_id, fol_att in results}\n",
    "\n",
    "        return question_att_dict\n"
   ]
  },
  {
   "cell_type": "code",
   "execution_count": 67,
   "id": "9d378079",
   "metadata": {},
   "outputs": [
    {
     "data": {
      "text/plain": [
       "{'q1': 2, 'q2': 1, 'q3': 1}"
      ]
     },
     "execution_count": 67,
     "metadata": {},
     "output_type": "execute_result"
    }
   ],
   "source": [
    "get_student_question_fol_attempt_distribution('NAVYA', 'abcd2')"
   ]
  },
  {
   "cell_type": "code",
   "execution_count": 68,
   "id": "841a3643",
   "metadata": {},
   "outputs": [],
   "source": [
    "def student_analysis(student_name, assignment_id):\n",
    "    question_parent_time = get_student_question_parent_time_distribution(student_name, assignment_id)\n",
    "    question_followup_time = get_student_question_followup_time_distribution(student_name, assignment_id)\n",
    "    question_parent_att = get_student_question_attempt_distribution(student_name, assignment_id)\n",
    "    question_followup_att = get_student_question_fol_attempt_distribution(student_name, assignment_id)\n",
    "    return {\"question_parent_time\": question_parent_time, \"question_followup_time\": question_followup_time, \"question_parent_att\": question_parent_att, \"question_followup_att\": question_followup_att}"
   ]
  },
  {
   "cell_type": "code",
   "execution_count": 69,
   "id": "4a2eb2c8",
   "metadata": {},
   "outputs": [
    {
     "data": {
      "text/plain": [
       "{'question_parent_time': {'q1': 20, 'q2': 10, 'q3': 10},\n",
       " 'question_followup_time': {'q1': 20, 'q2': 15, 'q3': 25},\n",
       " 'question_parent_att': {'q1': 2, 'q2': 1, 'q3': 1},\n",
       " 'question_followup_att': {'q1': 2, 'q2': 1, 'q3': 1}}"
      ]
     },
     "execution_count": 69,
     "metadata": {},
     "output_type": "execute_result"
    }
   ],
   "source": [
    "student_analysis('NAVYA', 'abcd2')"
   ]
  },
  {
   "cell_type": "code",
   "execution_count": null,
   "id": "02d878b6",
   "metadata": {},
   "outputs": [],
   "source": []
  }
 ],
 "metadata": {
  "kernelspec": {
   "display_name": ".venv",
   "language": "python",
   "name": "python3"
  },
  "language_info": {
   "codemirror_mode": {
    "name": "ipython",
    "version": 3
   },
   "file_extension": ".py",
   "mimetype": "text/x-python",
   "name": "python",
   "nbconvert_exporter": "python",
   "pygments_lexer": "ipython3",
   "version": "3.12.4"
  }
 },
 "nbformat": 4,
 "nbformat_minor": 5
}
